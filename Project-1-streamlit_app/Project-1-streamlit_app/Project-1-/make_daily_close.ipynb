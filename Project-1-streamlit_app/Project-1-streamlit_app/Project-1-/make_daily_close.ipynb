{
 "cells": [
  {
   "cell_type": "code",
   "execution_count": 1,
   "id": "5a22c51f-93ad-44b8-abb5-56f0e10820fb",
   "metadata": {},
   "outputs": [],
   "source": [
    "import os\n",
    "import requests\n",
    "import json\n",
    "import pandas as pd\n",
    "from dotenv import load_dotenv\n",
    "import alpaca_trade_api as tradeapi\n",
    "import streamlit as st\n",
    "from api_caller import api_call\n",
    "from helper_clean import historical_data_cleaner "
   ]
  },
  {
   "cell_type": "code",
   "execution_count": 2,
   "id": "20421acf-3778-40f2-a3ac-2a0f3a010c25",
   "metadata": {},
   "outputs": [
    {
     "data": {
      "text/html": [
       "<div>\n",
       "<style scoped>\n",
       "    .dataframe tbody tr th:only-of-type {\n",
       "        vertical-align: middle;\n",
       "    }\n",
       "\n",
       "    .dataframe tbody tr th {\n",
       "        vertical-align: top;\n",
       "    }\n",
       "\n",
       "    .dataframe thead th {\n",
       "        text-align: right;\n",
       "    }\n",
       "</style>\n",
       "<table border=\"1\" class=\"dataframe\">\n",
       "  <thead>\n",
       "    <tr style=\"text-align: right;\">\n",
       "      <th></th>\n",
       "      <th>Ticker</th>\n",
       "      <th>Quantity</th>\n",
       "    </tr>\n",
       "  </thead>\n",
       "  <tbody>\n",
       "    <tr>\n",
       "      <th>0</th>\n",
       "      <td>AMZN</td>\n",
       "      <td>5</td>\n",
       "    </tr>\n",
       "    <tr>\n",
       "      <th>1</th>\n",
       "      <td>GOOG</td>\n",
       "      <td>7</td>\n",
       "    </tr>\n",
       "    <tr>\n",
       "      <th>2</th>\n",
       "      <td>WMT</td>\n",
       "      <td>20</td>\n",
       "    </tr>\n",
       "    <tr>\n",
       "      <th>3</th>\n",
       "      <td>JPM</td>\n",
       "      <td>25</td>\n",
       "    </tr>\n",
       "  </tbody>\n",
       "</table>\n",
       "</div>"
      ],
      "text/plain": [
       "  Ticker  Quantity\n",
       "0   AMZN         5\n",
       "1   GOOG         7\n",
       "2    WMT        20\n",
       "3    JPM        25"
      ]
     },
     "metadata": {},
     "output_type": "display_data"
    },
    {
     "data": {
      "text/plain": [
       "array(['AMZN', 'GOOG', 'WMT', 'JPM'], dtype=object)"
      ]
     },
     "metadata": {},
     "output_type": "display_data"
    }
   ],
   "source": [
    "test = pd.read_csv(\"project_1_mockdata.csv\")\n",
    "tickers = test['Ticker'].unique()\n",
    "display(test)\n",
    "display(tickers)"
   ]
  },
  {
   "cell_type": "code",
   "execution_count": 3,
   "id": "8ed44d43-2a94-4912-999e-e5e29b6f3267",
   "metadata": {},
   "outputs": [
    {
     "data": {
      "text/html": [
       "<div>\n",
       "<style scoped>\n",
       "    .dataframe tbody tr th:only-of-type {\n",
       "        vertical-align: middle;\n",
       "    }\n",
       "\n",
       "    .dataframe tbody tr th {\n",
       "        vertical-align: top;\n",
       "    }\n",
       "\n",
       "    .dataframe thead th {\n",
       "        text-align: right;\n",
       "    }\n",
       "</style>\n",
       "<table border=\"1\" class=\"dataframe\">\n",
       "  <thead>\n",
       "    <tr style=\"text-align: right;\">\n",
       "      <th></th>\n",
       "      <th>timestamp</th>\n",
       "      <th>open</th>\n",
       "      <th>high</th>\n",
       "      <th>low</th>\n",
       "      <th>close</th>\n",
       "      <th>volume</th>\n",
       "      <th>trade_count</th>\n",
       "      <th>vwap</th>\n",
       "      <th>symbol</th>\n",
       "    </tr>\n",
       "  </thead>\n",
       "  <tbody>\n",
       "    <tr>\n",
       "      <th>0</th>\n",
       "      <td>2022-07-13 04:00:00+00:00</td>\n",
       "      <td>107.00</td>\n",
       "      <td>111.7800</td>\n",
       "      <td>106.01</td>\n",
       "      <td>110.40</td>\n",
       "      <td>61357511</td>\n",
       "      <td>624223</td>\n",
       "      <td>109.997685</td>\n",
       "      <td>AMZN</td>\n",
       "    </tr>\n",
       "    <tr>\n",
       "      <th>1</th>\n",
       "      <td>2022-07-13 04:00:00+00:00</td>\n",
       "      <td>2252.78</td>\n",
       "      <td>2303.1399</td>\n",
       "      <td>2236.46</td>\n",
       "      <td>2243.74</td>\n",
       "      <td>1948452</td>\n",
       "      <td>97694</td>\n",
       "      <td>2257.751607</td>\n",
       "      <td>GOOG</td>\n",
       "    </tr>\n",
       "    <tr>\n",
       "      <th>2</th>\n",
       "      <td>2022-07-13 04:00:00+00:00</td>\n",
       "      <td>111.75</td>\n",
       "      <td>112.4769</td>\n",
       "      <td>110.38</td>\n",
       "      <td>111.91</td>\n",
       "      <td>12886200</td>\n",
       "      <td>137768</td>\n",
       "      <td>111.679064</td>\n",
       "      <td>JPM</td>\n",
       "    </tr>\n",
       "    <tr>\n",
       "      <th>3</th>\n",
       "      <td>2022-07-13 04:00:00+00:00</td>\n",
       "      <td>124.44</td>\n",
       "      <td>126.4600</td>\n",
       "      <td>123.91</td>\n",
       "      <td>125.37</td>\n",
       "      <td>4190285</td>\n",
       "      <td>58466</td>\n",
       "      <td>125.331197</td>\n",
       "      <td>WMT</td>\n",
       "    </tr>\n",
       "  </tbody>\n",
       "</table>\n",
       "</div>"
      ],
      "text/plain": [
       "                  timestamp     open       high      low    close    volume  \\\n",
       "0 2022-07-13 04:00:00+00:00   107.00   111.7800   106.01   110.40  61357511   \n",
       "1 2022-07-13 04:00:00+00:00  2252.78  2303.1399  2236.46  2243.74   1948452   \n",
       "2 2022-07-13 04:00:00+00:00   111.75   112.4769   110.38   111.91  12886200   \n",
       "3 2022-07-13 04:00:00+00:00   124.44   126.4600   123.91   125.37   4190285   \n",
       "\n",
       "   trade_count         vwap symbol  \n",
       "0       624223   109.997685   AMZN  \n",
       "1        97694  2257.751607   GOOG  \n",
       "2       137768   111.679064    JPM  \n",
       "3        58466   125.331197    WMT  "
      ]
     },
     "execution_count": 3,
     "metadata": {},
     "output_type": "execute_result"
    }
   ],
   "source": [
    "start_date = pd.Timestamp(str(\"2022-07-13\"), tz=\"America/New_York\").isoformat()\n",
    "end_date = pd.Timestamp(str(\"2022-07-13\"), tz=\"America/New_York\").isoformat()\n",
    "timeframe = \"1Day\"\n",
    "\n",
    "alpaca_data = api_call()\n",
    "\n",
    "historical_data = alpaca_data.get_bars(\n",
    "    tickers,\n",
    "    timeframe, \n",
    "    start = start_date,\n",
    "    end = end_date\n",
    ").df\n",
    "\n",
    "historical_data.reset_index()"
   ]
  },
  {
   "cell_type": "code",
   "execution_count": 4,
   "id": "36019dd4-071c-4399-9d88-d41dfb9e1863",
   "metadata": {},
   "outputs": [
    {
     "ename": "NameError",
     "evalue": "name 'df_portfolio' is not defined",
     "output_type": "error",
     "traceback": [
      "\u001b[1;31m---------------------------------------------------------------------------\u001b[0m",
      "\u001b[1;31mNameError\u001b[0m                                 Traceback (most recent call last)",
      "\u001b[1;32m~\\AppData\\Local\\Temp\\ipykernel_1140\\2187178808.py\u001b[0m in \u001b[0;36m<module>\u001b[1;34m\u001b[0m\n\u001b[0;32m     27\u001b[0m \u001b[1;33m\u001b[0m\u001b[0m\n\u001b[0;32m     28\u001b[0m \u001b[1;31m# Call the function to return the cleaned daily data for our portfolio\u001b[0m\u001b[1;33m\u001b[0m\u001b[1;33m\u001b[0m\u001b[1;33m\u001b[0m\u001b[0m\n\u001b[1;32m---> 29\u001b[1;33m \u001b[0mcleaned_df\u001b[0m \u001b[1;33m=\u001b[0m \u001b[0mmake_daily_close\u001b[0m\u001b[1;33m(\u001b[0m\u001b[0mdf_portfolio\u001b[0m\u001b[1;33m,\u001b[0m \u001b[0mtickers\u001b[0m\u001b[1;33m)\u001b[0m\u001b[1;33m\u001b[0m\u001b[1;33m\u001b[0m\u001b[0m\n\u001b[0m\u001b[0;32m     30\u001b[0m \u001b[0mcleaned_df\u001b[0m\u001b[1;33m.\u001b[0m\u001b[0mhead\u001b[0m\u001b[1;33m(\u001b[0m\u001b[1;33m)\u001b[0m\u001b[1;33m\u001b[0m\u001b[1;33m\u001b[0m\u001b[0m\n",
      "\u001b[1;31mNameError\u001b[0m: name 'df_portfolio' is not defined"
     ]
    }
   ],
   "source": [
    "def make_daily_close(pulled_df, tickers):\n",
    "    \n",
    "    # Create an empty list to hold the dictionaries for each day\n",
    "    closing_data = []\n",
    "    \n",
    "    # Iterate through each unique timestamp to grab each stocks data\n",
    "    for date in pulled_df.index.unique():\n",
    "        \n",
    "        # Create a dictionary to hold the timestamp, and each stocks closing price\n",
    "        day_data = {}\n",
    "        \n",
    "        # Store the current timestamp that we are pulling data for\n",
    "        day_data['Timestamp'] = date\n",
    "        \n",
    "        # Iterate through the tickers for that day, and grab each ones stock price\n",
    "        for stock in tickers:\n",
    "            day_data[stock] = pulled_df.loc[(pulled_df.index == date) & (pulled_df['symbol'] == stock), 'close'].item()\n",
    "        \n",
    "        # Append the current timestamps data to the list\n",
    "        closing_data.append(day_data)\n",
    "        \n",
    "    # Create a dataframe from the list of closing price dictionaries\n",
    "    cleaned_data = pd.DataFrame(closing_data)\n",
    "    \n",
    "    # Return the dataframe\n",
    "    return cleaned_data\n"
   ]
  }
 ],
 "metadata": {
  "kernelspec": {
   "display_name": "Python 3 (ipykernel)",
   "language": "python",
   "name": "python3"
  },
  "language_info": {
   "codemirror_mode": {
    "name": "ipython",
    "version": 3
   },
   "file_extension": ".py",
   "mimetype": "text/x-python",
   "name": "python",
   "nbconvert_exporter": "python",
   "pygments_lexer": "ipython3",
   "version": "3.7.13"
  }
 },
 "nbformat": 4,
 "nbformat_minor": 5
}
