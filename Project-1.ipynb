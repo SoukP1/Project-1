{
 "cells": [
  {
   "cell_type": "code",
   "execution_count": 1,
   "id": "a6fe24cd-ef51-4bc6-9ad9-cca0c22246ba",
   "metadata": {},
   "outputs": [
    {
     "name": "stderr",
     "output_type": "stream",
     "text": [
      "2022-07-12 18:56:52.510 INFO    numexpr.utils: NumExpr defaulting to 4 threads.\n"
     ]
    }
   ],
   "source": [
    "import streamlit as st\n",
    "import pandas as pd\n",
    "import warnings\n",
    "warnings.filterwarnings('ignore')\n",
    "from ipywidgets.widgets import Label, FloatProgress, FloatSlider, Button\n",
    "from ipywidgets.widgets import Layout, HBox, VBox\n",
    "from IPython.display import display\n",
    "import numpy as np\n",
    "import bqplot as bq\n",
    "import time\n",
    "import threading\n",
    "import ipywidgets as widgets"
   ]
  },
  {
   "cell_type": "code",
   "execution_count": 2,
   "id": "4f847deb",
   "metadata": {},
   "outputs": [],
   "source": [
    "flag = True\n",
    "\n",
    "x = np.linspace(0, 2*np.pi, 500)\n",
    "dx = x[1] - x[0]\n",
    "y = 1 + np.sin(x)"
   ]
  },
  {
   "cell_type": "code",
   "execution_count": 5,
   "id": "89ebdad0",
   "metadata": {},
   "outputs": [
    {
     "data": {
      "application/vnd.jupyter.widget-view+json": {
       "model_id": "0ff049b08ee2475cbadbcb69931e486d",
       "version_major": 2,
       "version_minor": 0
      },
      "text/plain": [
       "FloatSlider(value=0.0, description='Zero', layout=Layout(margin='0 0 5px 0', width='490px'), max=1000.0, step=…"
      ]
     },
     "metadata": {},
     "output_type": "display_data"
    }
   ],
   "source": [
    "##button\n",
    "stopb = widgets.Button(description = 'Stop',\n",
    "        button_style='warning',\n",
    "        icon='stop',\n",
    "        layout=Layout(width='100px')\n",
    ")\n",
    "def stop_click(b):\n",
    "    global flag\n",
    "    flag = False\n",
    "    \n",
    "stopb.on_click(stop_click)\n",
    "\n",
    "##Label and progress\n",
    "w1 = FloatProgress(\n",
    "    value=y[-1],\n",
    "    min=0,\n",
    "    max=2,\n",
    "    description='PV:',\n",
    "    style={'description_width': 'intial'},\n",
    "    layout=Layout(width='365px')\n",
    ")\n",
    "\n",
    "w2 = Label(\n",
    "    value=str(np.round(y[-1],2)),\n",
    "    layout=Layout(margin='0 10px 0 31px')\n",
    ")\n",
    "\n",
    "w12 = HBox(\n",
    "    children=(w1,w2),\n",
    "    layout=Layout(margin='0 0 0 43px')\n",
    ")\n",
    "\n",
    "##slider\n",
    "WA = FloatSlider(\n",
    "    value=0,\n",
    "    min=0,\n",
    "    max=1000,\n",
    "    step=0.01,\n",
    "    description='Zero',\n",
    "    layout=Layout(width='490px', margin='0 0 5px 0')\n",
    ")\n",
    "WA\n"
   ]
  },
  {
   "cell_type": "code",
   "execution_count": null,
   "id": "85cac730",
   "metadata": {},
   "outputs": [],
   "source": []
  },
  {
   "cell_type": "code",
   "execution_count": null,
   "id": "726068d7",
   "metadata": {},
   "outputs": [],
   "source": []
  },
  {
   "cell_type": "code",
   "execution_count": null,
   "id": "2b3aeeac-6cab-411d-a2cb-6f9e9bfc9ef9",
   "metadata": {},
   "outputs": [],
   "source": []
  },
  {
   "cell_type": "code",
   "execution_count": null,
   "id": "73c2926d",
   "metadata": {},
   "outputs": [],
   "source": []
  },
  {
   "cell_type": "code",
   "execution_count": null,
   "id": "ed0e54ee-aa07-4d78-857f-b3906cde133e",
   "metadata": {},
   "outputs": [],
   "source": []
  },
  {
   "cell_type": "code",
   "execution_count": null,
   "id": "612ceb4f-afd4-40c9-a4d2-76a9769edd50",
   "metadata": {},
   "outputs": [],
   "source": []
  },
  {
   "cell_type": "code",
   "execution_count": null,
   "id": "85724b37-4362-4e33-acc0-b8b27afa2b4a",
   "metadata": {},
   "outputs": [],
   "source": []
  }
 ],
 "metadata": {
  "kernelspec": {
   "display_name": "Python 3 (ipykernel)",
   "language": "python",
   "name": "python3"
  },
  "language_info": {
   "codemirror_mode": {
    "name": "ipython",
    "version": 3
   },
   "file_extension": ".py",
   "mimetype": "text/x-python",
   "name": "python",
   "nbconvert_exporter": "python",
   "pygments_lexer": "ipython3",
   "version": "3.9.12"
  }
 },
 "nbformat": 4,
 "nbformat_minor": 5
}
